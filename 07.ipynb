{
 "cells": [
  {
   "cell_type": "code",
   "execution_count": 2,
   "metadata": {},
   "outputs": [
    {
     "name": "stdout",
     "output_type": "stream",
     "text": [
      "Antes do deslocamento:\n",
      "Média: 32.46875\n",
      "Mediana: 29.5\n",
      "Moda: 24\n",
      "Amplitude: 29\n",
      "IQR: 14.5\n",
      "\n",
      "Após o deslocamento:\n",
      "Média: 42.46875\n",
      "Mediana: 39.5\n",
      "Moda: 34\n",
      "Amplitude: 29\n",
      "IQR: 14.5\n",
      "\n"
     ]
    }
   ],
   "source": [
    "# importando as bibliotecas necessárias\n",
    "import numpy as np\n",
    "\n",
    "# Função para calcular a média, mediana, moda, amplitude e IQR\n",
    "def analyze_data(data):\n",
    "    data = np.array(data)  # Converter para um array NumPy\n",
    "    mean = np.mean(data)\n",
    "    median = np.median(data)\n",
    "    mode = np.argmax(np.bincount(data))\n",
    "    data_range = np.max(data) - np.min(data)\n",
    "    q1 = np.percentile(data, 25)\n",
    "    q3 = np.percentile(data, 75)\n",
    "    iqr = q3 - q1\n",
    "    \n",
    "    print(\"Antes do deslocamento:\")\n",
    "    print(f\"Média: {mean}\")\n",
    "    print(f\"Mediana: {median}\")\n",
    "    print(f\"Moda: {mode}\")\n",
    "    print(f\"Amplitude: {data_range}\")\n",
    "    print(f\"IQR: {iqr}\\n\")\n",
    "\n",
    "    # Deslocamento (shifting)\n",
    "    constant = 10\n",
    "    shifted_data = data + constant\n",
    "    \n",
    "    mean_shifted = np.mean(shifted_data)\n",
    "    median_shifted = np.median(shifted_data)\n",
    "    mode_shifted = np.argmax(np.bincount(shifted_data))\n",
    "    data_range_shifted = np.max(shifted_data) - np.min(shifted_data)\n",
    "    q1_shifted = np.percentile(shifted_data, 25)\n",
    "    q3_shifted = np.percentile(shifted_data, 75)\n",
    "    iqr_shifted = q3_shifted - q1_shifted\n",
    "    \n",
    "    print(\"Após o deslocamento:\")\n",
    "    print(f\"Média: {mean_shifted}\")\n",
    "    print(f\"Mediana: {median_shifted}\")\n",
    "    print(f\"Moda: {mode_shifted}\")\n",
    "    print(f\"Amplitude: {data_range_shifted}\")\n",
    "    print(f\"IQR: {iqr_shifted}\\n\")\n",
    "\n",
    "# Idades de um grupo de pessoas\n",
    "ages = [20, 24, 22, 24, 25, 26, 28, 22, 24, 23, 24, 25, 26, 27, 28, \n",
    "        29, 30, 32, 34, 35, 36, 37, 38, 39, 40, 42, 44, 45, 46, 47, 48, 49]\n",
    "\n",
    "# Analisando o conjunto de dados antes e após o deslocamento\n",
    "analyze_data(ages)"
   ]
  },
  {
   "cell_type": "code",
   "execution_count": null,
   "metadata": {},
   "outputs": [],
   "source": []
  }
 ],
 "metadata": {
  "kernelspec": {
   "display_name": "base",
   "language": "python",
   "name": "python3"
  },
  "language_info": {
   "codemirror_mode": {
    "name": "ipython",
    "version": 3
   },
   "file_extension": ".py",
   "mimetype": "text/x-python",
   "name": "python",
   "nbconvert_exporter": "python",
   "pygments_lexer": "ipython3",
   "version": "3.10.11"
  },
  "orig_nbformat": 4
 },
 "nbformat": 4,
 "nbformat_minor": 2
}
