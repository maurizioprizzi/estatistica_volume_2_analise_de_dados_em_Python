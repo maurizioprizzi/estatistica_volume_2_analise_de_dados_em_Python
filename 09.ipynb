{
 "cells": [
  {
   "cell_type": "code",
   "execution_count": 3,
   "metadata": {},
   "outputs": [
    {
     "name": "stdout",
     "output_type": "stream",
     "text": [
      "Antes dos outliers:\n",
      "Média: 32.46875\n",
      "Mediana: 29.5\n",
      "Moda: 24\n",
      "Amplitude: 29\n",
      "IQR: 14.5\n",
      "\n",
      "Após a adição dos outliers:\n",
      "Média: 32.76470588235294\n",
      "Mediana: 29.5\n",
      "Moda: 24\n",
      "Amplitude: 45\n",
      "IQR: 15.5\n",
      "\n"
     ]
    }
   ],
   "source": [
    "# importando as bibliotecas necessárias\n",
    "import numpy as np\n",
    "\n",
    "# Função para calcular as medidas estatísticas\n",
    "def analyze_data(data):\n",
    "    mean = np.mean(data)\n",
    "    median = np.median(data)\n",
    "    mode = np.argmax(np.bincount(data))\n",
    "    data_range = np.max(data) - np.min(data)\n",
    "    q1 = np.percentile(data, 25)\n",
    "    q3 = np.percentile(data, 75)\n",
    "    iqr = q3 - q1\n",
    "    \n",
    "    print(\"Antes dos outliers:\")\n",
    "    print(f\"Média: {mean}\")\n",
    "    print(f\"Mediana: {median}\")\n",
    "    print(f\"Moda: {mode}\")\n",
    "    print(f\"Amplitude: {data_range}\")\n",
    "    print(f\"IQR: {iqr}\\n\")\n",
    "\n",
    "    # Adicionar outliers\n",
    "    outliers = [15, 60]\n",
    "    data_with_outliers = np.concatenate((data, outliers))\n",
    "    \n",
    "    mean_with_outliers = np.mean(data_with_outliers)\n",
    "    median_with_outliers = np.median(data_with_outliers)\n",
    "    mode_with_outliers = np.argmax(np.bincount(data_with_outliers))\n",
    "    data_range_with_outliers = np.max(data_with_outliers) - np.min(data_with_outliers)\n",
    "    q1_with_outliers = np.percentile(data_with_outliers, 25)\n",
    "    q3_with_outliers = np.percentile(data_with_outliers, 75)\n",
    "    iqr_with_outliers = q3_with_outliers - q1_with_outliers\n",
    "    \n",
    "    print(\"Após a adição dos outliers:\")\n",
    "    print(f\"Média: {mean_with_outliers}\")\n",
    "    print(f\"Mediana: {median_with_outliers}\")\n",
    "    print(f\"Moda: {mode_with_outliers}\")\n",
    "    print(f\"Amplitude: {data_range_with_outliers}\")\n",
    "    print(f\"IQR: {iqr_with_outliers}\\n\")\n",
    "\n",
    "# Idades de um grupo de pessoas\n",
    "ages = [20, 24, 22, 24, 25, 26, 28, 22, 24, 23, 24, 25, 26, 27, 28, \n",
    "        29, 30, 32, 34, 35, 36, 37, 38, 39, 40, 42, 44, 45, 46, 47, 48, 49]\n",
    "\n",
    "# Analisando o conjunto de dados antes e após a adição dos outliers\n",
    "analyze_data(ages)"
   ]
  },
  {
   "cell_type": "code",
   "execution_count": null,
   "metadata": {},
   "outputs": [],
   "source": []
  }
 ],
 "metadata": {
  "kernelspec": {
   "display_name": "base",
   "language": "python",
   "name": "python3"
  },
  "language_info": {
   "codemirror_mode": {
    "name": "ipython",
    "version": 3
   },
   "file_extension": ".py",
   "mimetype": "text/x-python",
   "name": "python",
   "nbconvert_exporter": "python",
   "pygments_lexer": "ipython3",
   "version": "3.10.11"
  },
  "orig_nbformat": 4
 },
 "nbformat": 4,
 "nbformat_minor": 2
}
