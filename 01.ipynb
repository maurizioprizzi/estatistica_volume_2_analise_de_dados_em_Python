{
 "cells": [
  {
   "cell_type": "code",
   "execution_count": 1,
   "metadata": {},
   "outputs": [
    {
     "name": "stdout",
     "output_type": "stream",
     "text": [
      "A média dos números é: 20.0\n"
     ]
    }
   ],
   "source": [
    "# Importar a biblioteca NumPy, que nos fornecerá funções e métodos para manipular os dados\n",
    "import numpy as np\n",
    "\n",
    "# Definir um conjunto de números para calcular a média\n",
    "numeros = [10, 15, 20, 25, 30]\n",
    "\n",
    "# Calcular a média usando a função mean() do NumPy.\n",
    "media = np.mean(numeros)\n",
    "\n",
    "# Exibir o resultado\n",
    "print(\"A média dos números é:\", media)"
   ]
  },
  {
   "cell_type": "code",
   "execution_count": null,
   "metadata": {},
   "outputs": [],
   "source": []
  }
 ],
 "metadata": {
  "kernelspec": {
   "display_name": "base",
   "language": "python",
   "name": "python3"
  },
  "language_info": {
   "codemirror_mode": {
    "name": "ipython",
    "version": 3
   },
   "file_extension": ".py",
   "mimetype": "text/x-python",
   "name": "python",
   "nbconvert_exporter": "python",
   "pygments_lexer": "ipython3",
   "version": "3.10.11"
  },
  "orig_nbformat": 4
 },
 "nbformat": 4,
 "nbformat_minor": 2
}
