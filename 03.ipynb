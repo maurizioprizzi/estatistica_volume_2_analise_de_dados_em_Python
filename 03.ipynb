{
 "cells": [
  {
   "cell_type": "code",
   "execution_count": 1,
   "metadata": {},
   "outputs": [
    {
     "name": "stdout",
     "output_type": "stream",
     "text": [
      "A mediana é: 15\n"
     ]
    }
   ],
   "source": [
    "# Vamos importar a biblioteca NumPy\n",
    "import numpy as np\n",
    "\n",
    "# Criamos um conjunto de dados fictício\n",
    "dados = np.array([10, 25, 15, 7, 30, 12, 20])\n",
    "\n",
    "# Ordenamos o conjunto de dados em ordem crescente\n",
    "dados_ordenados = np.sort(dados)\n",
    "\n",
    "# Verificamos se o número de elementos do conjunto é par ou ímpar\n",
    "n = len(dados_ordenados)\n",
    "par = (n % 2 == 0)\n",
    "\n",
    "# Calculamos a mediana com base no número de elementos\n",
    "# Se for ímpar\n",
    "if not par:\n",
    "    mediana = dados_ordenados[n // 2]\n",
    "\n",
    "# Se for par\n",
    "if par:\n",
    "    mediana = (dados_ordenados[n // 2 - 1] + dados_ordenados[n // 2]) / 2\n",
    "\n",
    "# Exibindo a mediana\n",
    "print(\"A mediana é:\", mediana)"
   ]
  },
  {
   "cell_type": "code",
   "execution_count": null,
   "metadata": {},
   "outputs": [],
   "source": []
  }
 ],
 "metadata": {
  "kernelspec": {
   "display_name": "base",
   "language": "python",
   "name": "python3"
  },
  "language_info": {
   "codemirror_mode": {
    "name": "ipython",
    "version": 3
   },
   "file_extension": ".py",
   "mimetype": "text/x-python",
   "name": "python",
   "nbconvert_exporter": "python",
   "pygments_lexer": "ipython3",
   "version": "3.10.11"
  },
  "orig_nbformat": 4
 },
 "nbformat": 4,
 "nbformat_minor": 2
}
