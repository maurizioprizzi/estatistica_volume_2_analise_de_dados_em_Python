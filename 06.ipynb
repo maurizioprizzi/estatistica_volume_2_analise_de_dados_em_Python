{
 "cells": [
  {
   "cell_type": "code",
   "execution_count": 1,
   "metadata": {},
   "outputs": [
    {
     "name": "stdout",
     "output_type": "stream",
     "text": [
      "Primeiro quartil (Q1): 25\n",
      "Terceiro quartil (Q3): 40\n",
      "Intervalo interquartil (IQR): 15\n"
     ]
    }
   ],
   "source": [
    "def calculate_interquartile_range(data):\n",
    "    # Organizando os dados\n",
    "    data.sort()\n",
    "\n",
    "    # Calculando o primeiro quartil (Q1)\n",
    "    n = len(data)\n",
    "    q1_index = int(n * 0.25)\n",
    "    q1 = data[q1_index]\n",
    "\n",
    "    # Calculando o terceiro quartil (Q3)\n",
    "    q3_index = int(n * 0.75)\n",
    "    q3 = data[q3_index]\n",
    "\n",
    "    # Calculando o intervalo interquartil (IQR)\n",
    "    iqr = q3 - q1\n",
    "\n",
    "    # Retornando os resultados\n",
    "    return q1, q3, iqr\n",
    "\n",
    "# Idades de um grupo de pessoas\n",
    "ages = [20, 24, 22, 24, 25, 26, 28, 22, 24, 23, 24, 25, 26, 27, 28, \n",
    "        29, 30, 32, 34, 35, 36, 37, 38, 39, 40, 42, 44, 45, 46, 47, 48, 49]\n",
    "\n",
    "# Calculando o intervalo interquartil\n",
    "q1, q3, iqr = calculate_interquartile_range(ages)\n",
    "\n",
    "# Exibindo os resultados\n",
    "print(f\"Primeiro quartil (Q1): {q1}\")\n",
    "print(f\"Terceiro quartil (Q3): {q3}\")\n",
    "print(f\"Intervalo interquartil (IQR): {iqr}\")"
   ]
  },
  {
   "cell_type": "code",
   "execution_count": null,
   "metadata": {},
   "outputs": [],
   "source": []
  }
 ],
 "metadata": {
  "kernelspec": {
   "display_name": "base",
   "language": "python",
   "name": "python3"
  },
  "language_info": {
   "codemirror_mode": {
    "name": "ipython",
    "version": 3
   },
   "file_extension": ".py",
   "mimetype": "text/x-python",
   "name": "python",
   "nbconvert_exporter": "python",
   "pygments_lexer": "ipython3",
   "version": "3.10.11"
  },
  "orig_nbformat": 4
 },
 "nbformat": 4,
 "nbformat_minor": 2
}
