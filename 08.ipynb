{
 "cells": [
  {
   "cell_type": "code",
   "execution_count": 5,
   "metadata": {},
   "outputs": [
    {
     "name": "stdout",
     "output_type": "stream",
     "text": [
      "Antes do escalonamento:\n",
      "Média: 32.46875\n",
      "Mediana: 29.5\n",
      "Moda: 24\n",
      "Amplitude: 29\n",
      "IQR: 14.5\n",
      "\n",
      "Após o escalonamento:\n",
      "Média: 64.9375\n",
      "Mediana: 59.0\n",
      "Moda: 48\n",
      "Amplitude: 58\n",
      "IQR: 29.0\n",
      "\n"
     ]
    }
   ],
   "source": [
    "# importando as bibliotecas necessárias\n",
    "import numpy as np\n",
    "\n",
    "# Função para calcular a média, mediana, moda, amplitude e IQR\n",
    "def analyze_data(data):\n",
    "    data = np.array(data)  # Converter para um array NumPy\n",
    "    mean = np.mean(data)\n",
    "    median = np.median(data)\n",
    "    mode = np.argmax(np.bincount(data))\n",
    "    data_range = np.max(data) - np.min(data)\n",
    "    q1 = np.percentile(data, 25)\n",
    "    q3 = np.percentile(data, 75)\n",
    "    iqr = q3 - q1\n",
    "    \n",
    "    print(\"Antes do escalonamento:\")\n",
    "    print(f\"Média: {mean}\")\n",
    "    print(f\"Mediana: {median}\")\n",
    "    print(f\"Moda: {mode}\")\n",
    "    print(f\"Amplitude: {data_range}\")\n",
    "    print(f\"IQR: {iqr}\\n\")\n",
    "\n",
    "    # Escalonamento (scaling)\n",
    "    constant = 2\n",
    "    scaled_data = data * constant\n",
    "\n",
    "    mean_scaled = np.mean(scaled_data)\n",
    "    median_scaled = np.median(scaled_data)\n",
    "    mode_scaled = np.argmax(np.bincount(scaled_data))\n",
    "    data_range_scaled = np.max(scaled_data) - np.min(scaled_data)\n",
    "    q1_scaled = np.percentile(scaled_data, 25)\n",
    "    q3_scaled = np.percentile(scaled_data, 75)\n",
    "    iqr_scaled = q3_scaled - q1_scaled\n",
    "\n",
    "    print(\"Após o escalonamento:\")\n",
    "    print(f\"Média: {mean_scaled}\")\n",
    "    print(f\"Mediana: {median_scaled}\")\n",
    "    print(f\"Moda: {mode_scaled}\")\n",
    "    print(f\"Amplitude: {data_range_scaled}\")\n",
    "    print(f\"IQR: {iqr_scaled}\\n\")\n",
    "\n",
    "# Idades de um grupo de pessoas\n",
    "ages = [20, 24, 22, 24, 25, 26, 28, 22, 24, 23, 24, 25, 26, 27, 28, 29, 30, 32, 34, 35, 36, 37, 38, 39, 40, 42, 44, 45, 46, 47, 48, 49]\n",
    "\n",
    "# Analisando o conjunto de dados antes e após o escalonamento\n",
    "analyze_data(ages)"
   ]
  },
  {
   "cell_type": "code",
   "execution_count": null,
   "metadata": {},
   "outputs": [],
   "source": []
  }
 ],
 "metadata": {
  "kernelspec": {
   "display_name": "base",
   "language": "python",
   "name": "python3"
  },
  "language_info": {
   "codemirror_mode": {
    "name": "ipython",
    "version": 3
   },
   "file_extension": ".py",
   "mimetype": "text/x-python",
   "name": "python",
   "nbconvert_exporter": "python",
   "pygments_lexer": "ipython3",
   "version": "3.10.11"
  },
  "orig_nbformat": 4
 },
 "nbformat": 4,
 "nbformat_minor": 2
}
