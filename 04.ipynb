{
 "cells": [
  {
   "cell_type": "code",
   "execution_count": 2,
   "metadata": {},
   "outputs": [
    {
     "name": "stdout",
     "output_type": "stream",
     "text": [
      "A moda é: 2\n"
     ]
    }
   ],
   "source": [
    "# Vamos importar a biblioteca NumPy\n",
    "import numpy as np\n",
    "\n",
    "# Criamos um conjunto de dados fictício\n",
    "dados = np.array([2, 4, 5, 2, 7, 9, 2, 5, 4, 2])\n",
    "\n",
    "# Vamos contar as ocorrências de cada valor no conjunto de dados\n",
    "contagens = np.bincount(dados)\n",
    "\n",
    "# Identificando o índice com a maior contagem\n",
    "indice_moda = np.argmax(contagens)\n",
    "\n",
    "# Exibindo o valor correspondente ao índice do modo\n",
    "moda = indice_moda\n",
    "print(\"A moda é:\", moda)"
   ]
  },
  {
   "cell_type": "code",
   "execution_count": null,
   "metadata": {},
   "outputs": [],
   "source": []
  }
 ],
 "metadata": {
  "kernelspec": {
   "display_name": "base",
   "language": "python",
   "name": "python3"
  },
  "language_info": {
   "codemirror_mode": {
    "name": "ipython",
    "version": 3
   },
   "file_extension": ".py",
   "mimetype": "text/x-python",
   "name": "python",
   "nbconvert_exporter": "python",
   "pygments_lexer": "ipython3",
   "version": "3.10.11"
  },
  "orig_nbformat": 4
 },
 "nbformat": 4,
 "nbformat_minor": 2
}
